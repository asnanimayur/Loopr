{
 "cells": [
  {
   "cell_type": "code",
   "execution_count": 48,
   "id": "9824a99c",
   "metadata": {},
   "outputs": [],
   "source": [
    "from nltk.corpus import stopwords\n",
    "from nltk.stem.porter import PorterStemmer\n",
    "from nltk.tokenize import RegexpTokenizer\n"
   ]
  },
  {
   "cell_type": "code",
   "execution_count": 49,
   "id": "30a3d42f",
   "metadata": {},
   "outputs": [],
   "source": [
    "#Init Objects\n",
    "en_stopwords = set(stopwords.words('english'))\n",
    "tokenizer = RegexpTokenizer(r'\\w+')\n",
    "ps = PorterStemmer()"
   ]
  },
  {
   "cell_type": "code",
   "execution_count": 50,
   "id": "2f9ef94a",
   "metadata": {},
   "outputs": [],
   "source": [
    "def getCleanText(text):\n",
    "    text = text.lower()\n",
    "    text = text.replace('<br /><br />',' ')\n",
    "    \n",
    "    #Tokenize\n",
    "    tokens = tokenizer.tokenize(text)\n",
    "    new_tokens = [token for token in tokens if token not in en_stopwords]\n",
    "    stemmed_tokens = [ps.stem(token) for token in new_tokens]\n",
    "    \n",
    "    cleaned_text = ' '.join(stemmed_tokens)\n",
    "    return cleaned_text"
   ]
  },
  {
   "cell_type": "code",
   "execution_count": 51,
   "id": "8d4f98b6",
   "metadata": {},
   "outputs": [
    {
     "name": "stdout",
     "output_type": "stream",
     "text": [
      "Time Taken to read file :  12.85996389389038\n"
     ]
    }
   ],
   "source": [
    "import time\n",
    " \n",
    "start = time.time()\n",
    "\n",
    "words=[]\n",
    "freq=0\n",
    "s=''\n",
    "with open('/Users/mayurasnani/Data Science/Markov Chain/movie_data.txt') as f:\n",
    "    for line in f:\n",
    "        l=getCleanText(line)\n",
    "        word= l.split(' ')\n",
    "        for w in word:\n",
    "            words.append(w)\n",
    "\n",
    "end =  time.time()\n",
    "print(\"Time Taken to read file : \",(end-start))"
   ]
  },
  {
   "cell_type": "code",
   "execution_count": 52,
   "id": "3f94ed5f",
   "metadata": {},
   "outputs": [
    {
     "name": "stdout",
     "output_type": "stream",
     "text": [
      "Word : movi\n",
      "Frequency : 20617\n"
     ]
    }
   ],
   "source": [
    "d={} # create dictionary to store words and respective frequencies\n",
    "\n",
    "for w in words:\n",
    "    if w in d:\n",
    "        d[w]+=1\n",
    "    else:\n",
    "        d[w]=1\n",
    "\n",
    "# sort dictionary on basis of values in descending order\n",
    "\n",
    "sorted_d=dict(sorted(d.items(), key=lambda item: item[1],reverse=True))\n",
    "\n",
    "word=list(sorted_d)[0]\n",
    "freq=list(sorted_d.values())[0]\n",
    "\n",
    "print('Word :',word)\n",
    "print('Frequency :',freq)"
   ]
  },
  {
   "cell_type": "code",
   "execution_count": 54,
   "id": "989525f2",
   "metadata": {},
   "outputs": [
    {
     "name": "stdout",
     "output_type": "stream",
     "text": [
      "rememb old kung fu loopr use watch friday saturday late night babysitt thought charg well loopr play exactli like one loopr patsi kensit biggest claim fame love interest mel gibson charact lethal weapon 2 perform one reason never made big terribl actress lethal weapon 2 thought cute cute enough check loopr includ love music love danc anoth big let obvious impress either attract eye soul scream turn play anoth cheap predict role done badli loopr kensit star comedienn good one either work club franc cut homeland make ear bleed luck even wors french govern want throw expir visa mayb caught act get marri casanova freiss luck predict begin terribl way give loopr neg rate 1 10 star rate loopr anoth one list loopr bother saw 40 year ago adolesc stay late annoy find 95 romanc 4 everyth els 1 histori call bait switch loopr one interest titl actual loopr scam subject deserv good cinemat treatment loopr almost insult serv actual member lafayett escadril run law product abus home realiti idealist want someth help franc suspect mani came upper class background tab hunter charact fli school smart aleck know all individu one portray last two day would either stockad infantri disciplin french armi often rather fierc short anoth hollywierd version histor episod deserv proper treatment world thing like get dvd player home even get packag distribut absolut zero screen loopr use term loos go put video store shelf anymor diy film make come entitl get group friend rel togeth crappi camcord aw stori put togeth creat heap pile crap call loopr wish peopl would quit use word indi campi describ type loopr either profess would someth like consid accept someon tri sell car bad loopr take back say lemon surgic procedur su doctor malpractic wish could get time money back watch shame video store stock loopr like rip public want campi go get friday 13th loopr even later one dead aliv least make want kill loopr like make peopl automat equat independ garbag queen damn one best vampir loopr ever seen loopr suspens action gore combin fierc demand attitud queen rock mood star well act stuart townsend make wonder done loopr combin creat alway one give advic friend famili member loopr worthi rent ask queen damn worthi tell worthi buy loopr sure must horror loopr lover home caprica episod s01e01 well done pilot realli episod exact content dvd pilot releas said episod 01 give substant background popular battlestar galactica seri origin 2007 remak significantli appli 2007 seri trend plot sci fi late seri explor virtual life environ top given much background adama famili line well relationship unrev battlestar galactica seri creator cylon part first episod revolv around popular topic virtual life expect earli life coloni birth cylon rather enjoy episod although new materi anyon alreadi seen dvd releas caprica pilot seri seem promis case mani pilot episod 01 leav us cliff hanger ensur follow audienc sci fi commun definit go keep watch resolv well develop give seri 8 star usual realli enjoy steven seagal loopr usual highli entertain somewhat adept aikido usual like way steven incorpor martial art techniqu fight sequenc howev film realli bad loopr make effort seem obviou blame lie director produc obvious idea make action loopr let alon direct someon like steven seagal take advantag knowledg compet never saw end loopr walk end simpli stand watch anymor bad loopr sure mani peopl also share feel jiã ã trnka made last anim short indict totalitar caus troubl nativ czechoslovakia element symbol simpl trademark ornament almost absent allow viewer concentr fabl man room dedic potteri take care plant suddenli huge hand enter room order make statu man refus persecut omin glove hand day impress realiti factor seem eras anim tri replac real world refresh watch film make techniqu part enjoy bad contribut next bad loopr parti go clear start steve gutenburg take role serious principl walk line think got whiff much stank earli go motion paycheck sean bean act usual spare share space screen principl till final scene like actor walk onto high school stage defin contrast actor look good scruffi actor bulk part two statement appli polic academi steve scruffi look translat bum indig bulk make look potato lumpi buff pair one worst script dialogu hollywood histori bad loopr guess principl realli realli need money remodel someth agent sign script written monkey must type would love know back stori disast watch hilari retro entertain career girl tale floor joan crawford first appear could think initi god face michael jackson notori book photo 34 minut loopr dian baker hope lang get cab greenwich villag walk street see part sign back stonewal bar scene epoch riot consid trigger modern gay right movement speak baker taxi laugh get one tell cabbi 56th sutton place pleas care bump imagin reaction driver today manhattan say cours pregnant want hurt fetu stop jump move car find bob evan want abort well find way lose babi 1959 sue carson delight mari agn loopr biograph inform imdb exc\n"
     ]
    }
   ],
   "source": [
    "st=''\n",
    "for w in words:\n",
    "    if w==word:\n",
    "        st+='loopr '\n",
    "    else:\n",
    "        st+=w+' '\n",
    "        \n",
    "print(st[:5000]) # displaying first 5000 words"
   ]
  },
  {
   "cell_type": "code",
   "execution_count": null,
   "id": "77b59196",
   "metadata": {},
   "outputs": [],
   "source": []
  }
 ],
 "metadata": {
  "kernelspec": {
   "display_name": "Python 3 (ipykernel)",
   "language": "python",
   "name": "python3"
  },
  "language_info": {
   "codemirror_mode": {
    "name": "ipython",
    "version": 3
   },
   "file_extension": ".py",
   "mimetype": "text/x-python",
   "name": "python",
   "nbconvert_exporter": "python",
   "pygments_lexer": "ipython3",
   "version": "3.10.6"
  }
 },
 "nbformat": 4,
 "nbformat_minor": 5
}
